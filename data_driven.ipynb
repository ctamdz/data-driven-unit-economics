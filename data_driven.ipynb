{
 "cells": [
  {
   "cell_type": "markdown",
   "id": "1bbb089e",
   "metadata": {},
   "source": [
    "## CAC (Customer Acquisition Cost)"
   ]
  },
  {
   "cell_type": "code",
   "execution_count": 18,
   "id": "94e2be55",
   "metadata": {},
   "outputs": [],
   "source": [
    "import pandas as pd"
   ]
  },
  {
   "cell_type": "code",
   "execution_count": 19,
   "id": "4cc628fa",
   "metadata": {},
   "outputs": [],
   "source": [
    "monthly_expenses_gs_id = '10OGbaywwMIqKgnPGy8VDvpBVtjyqln47iYa2lFhI9Mw'\n",
    "monthly_expenses_full_url = f'https://docs.google.com/spreadsheets/d/{monthly_expenses_gs_id}/export?format=xlsx'\n",
    "monthly_expenses_df = pd.read_excel(monthly_expenses_full_url,sheet_name='Sheet1')"
   ]
  },
  {
   "cell_type": "code",
   "execution_count": 20,
   "id": "a1bc85a3",
   "metadata": {},
   "outputs": [
    {
     "data": {
      "text/html": [
       "<div>\n",
       "<style scoped>\n",
       "    .dataframe tbody tr th:only-of-type {\n",
       "        vertical-align: middle;\n",
       "    }\n",
       "\n",
       "    .dataframe tbody tr th {\n",
       "        vertical-align: top;\n",
       "    }\n",
       "\n",
       "    .dataframe thead th {\n",
       "        text-align: right;\n",
       "    }\n",
       "</style>\n",
       "<table border=\"1\" class=\"dataframe\">\n",
       "  <thead>\n",
       "    <tr style=\"text-align: right;\">\n",
       "      <th></th>\n",
       "      <th>#</th>\n",
       "      <th>month</th>\n",
       "      <th>category</th>\n",
       "      <th>item</th>\n",
       "      <th>amount</th>\n",
       "    </tr>\n",
       "  </thead>\n",
       "  <tbody>\n",
       "    <tr>\n",
       "      <th>18</th>\n",
       "      <td>19</td>\n",
       "      <td>2023-03-01</td>\n",
       "      <td>Server Costs</td>\n",
       "      <td>AWS Hosting</td>\n",
       "      <td>8400</td>\n",
       "    </tr>\n",
       "    <tr>\n",
       "      <th>19</th>\n",
       "      <td>20</td>\n",
       "      <td>2023-03-01</td>\n",
       "      <td>Server Costs</td>\n",
       "      <td>Google Cloud Storage</td>\n",
       "      <td>4400</td>\n",
       "    </tr>\n",
       "    <tr>\n",
       "      <th>20</th>\n",
       "      <td>21</td>\n",
       "      <td>2023-03-01</td>\n",
       "      <td>Software Licenses</td>\n",
       "      <td>Atlassian Jira</td>\n",
       "      <td>1400</td>\n",
       "    </tr>\n",
       "    <tr>\n",
       "      <th>21</th>\n",
       "      <td>22</td>\n",
       "      <td>2023-03-01</td>\n",
       "      <td>Software Licenses</td>\n",
       "      <td>Slack</td>\n",
       "      <td>900</td>\n",
       "    </tr>\n",
       "    <tr>\n",
       "      <th>22</th>\n",
       "      <td>23</td>\n",
       "      <td>2023-03-01</td>\n",
       "      <td>Software Licenses</td>\n",
       "      <td>Salesforce</td>\n",
       "      <td>1700</td>\n",
       "    </tr>\n",
       "  </tbody>\n",
       "</table>\n",
       "</div>"
      ],
      "text/plain": [
       "     #      month           category                  item  amount\n",
       "18  19 2023-03-01       Server Costs           AWS Hosting    8400\n",
       "19  20 2023-03-01       Server Costs  Google Cloud Storage    4400\n",
       "20  21 2023-03-01  Software Licenses        Atlassian Jira    1400\n",
       "21  22 2023-03-01  Software Licenses                 Slack     900\n",
       "22  23 2023-03-01  Software Licenses            Salesforce    1700"
      ]
     },
     "execution_count": 20,
     "metadata": {},
     "output_type": "execute_result"
    }
   ],
   "source": [
    "# Filter last month data\n",
    "max_month_expenses = monthly_expenses_df['month'].max()\n",
    "last_month_expenses_df = monthly_expenses_df[monthly_expenses_df['month'] == max_month_expenses]\n",
    "last_month_expenses_df.head()"
   ]
  },
  {
   "cell_type": "code",
   "execution_count": 21,
   "id": "58d7ef92",
   "metadata": {},
   "outputs": [
    {
     "data": {
      "text/plain": [
       "array(['AWS Hosting', 'Google Cloud Storage', 'Atlassian Jira', 'Slack',\n",
       "       'Salesforce', 'Zoom', 'Office Rent', 'Office Supplies',\n",
       "       'Travel Expenses'], dtype=object)"
      ]
     },
     "execution_count": 21,
     "metadata": {},
     "output_type": "execute_result"
    }
   ],
   "source": [
    "last_month_expenses_df['item'].unique()"
   ]
  },
  {
   "cell_type": "code",
   "execution_count": 22,
   "id": "b02bdd37",
   "metadata": {},
   "outputs": [
    {
     "data": {
      "text/plain": [
       "np.int64(1700)"
      ]
     },
     "execution_count": 22,
     "metadata": {},
     "output_type": "execute_result"
    }
   ],
   "source": [
    "crm_cost = last_month_expenses_df[last_month_expenses_df['item'] == 'Salesforce']['amount'].values[0]\n",
    "\n",
    "crm_cost\n"
   ]
  },
  {
   "cell_type": "markdown",
   "id": "bd01ab5d",
   "metadata": {},
   "source": [
    "## 1.2 Salaries"
   ]
  },
  {
   "cell_type": "code",
   "execution_count": 23,
   "id": "504b2fb8",
   "metadata": {},
   "outputs": [
    {
     "data": {
      "text/html": [
       "<div>\n",
       "<style scoped>\n",
       "    .dataframe tbody tr th:only-of-type {\n",
       "        vertical-align: middle;\n",
       "    }\n",
       "\n",
       "    .dataframe tbody tr th {\n",
       "        vertical-align: top;\n",
       "    }\n",
       "\n",
       "    .dataframe thead th {\n",
       "        text-align: right;\n",
       "    }\n",
       "</style>\n",
       "<table border=\"1\" class=\"dataframe\">\n",
       "  <thead>\n",
       "    <tr style=\"text-align: right;\">\n",
       "      <th></th>\n",
       "      <th>month</th>\n",
       "      <th>department</th>\n",
       "      <th>employee_name</th>\n",
       "      <th>position</th>\n",
       "      <th>paid</th>\n",
       "    </tr>\n",
       "  </thead>\n",
       "  <tbody>\n",
       "    <tr>\n",
       "      <th>0</th>\n",
       "      <td>2023-01-01</td>\n",
       "      <td>Sales</td>\n",
       "      <td>John Doe</td>\n",
       "      <td>Sales Manager</td>\n",
       "      <td>1500</td>\n",
       "    </tr>\n",
       "    <tr>\n",
       "      <th>1</th>\n",
       "      <td>2023-01-01</td>\n",
       "      <td>Sales</td>\n",
       "      <td>Jane Smith</td>\n",
       "      <td>Sales Associate</td>\n",
       "      <td>600</td>\n",
       "    </tr>\n",
       "    <tr>\n",
       "      <th>2</th>\n",
       "      <td>2023-01-01</td>\n",
       "      <td>Sales</td>\n",
       "      <td>Jim Brown</td>\n",
       "      <td>Sales Associate</td>\n",
       "      <td>700</td>\n",
       "    </tr>\n",
       "    <tr>\n",
       "      <th>3</th>\n",
       "      <td>2023-01-01</td>\n",
       "      <td>Sales</td>\n",
       "      <td>Laura Miller</td>\n",
       "      <td>Sales Associate</td>\n",
       "      <td>800</td>\n",
       "    </tr>\n",
       "    <tr>\n",
       "      <th>4</th>\n",
       "      <td>2023-01-01</td>\n",
       "      <td>Marketing</td>\n",
       "      <td>Alice Johnson</td>\n",
       "      <td>Marketing Manager</td>\n",
       "      <td>1650</td>\n",
       "    </tr>\n",
       "  </tbody>\n",
       "</table>\n",
       "</div>"
      ],
      "text/plain": [
       "       month department  employee_name           position  paid\n",
       "0 2023-01-01      Sales       John Doe      Sales Manager  1500\n",
       "1 2023-01-01      Sales     Jane Smith    Sales Associate   600\n",
       "2 2023-01-01      Sales      Jim Brown    Sales Associate   700\n",
       "3 2023-01-01      Sales   Laura Miller    Sales Associate   800\n",
       "4 2023-01-01  Marketing  Alice Johnson  Marketing Manager  1650"
      ]
     },
     "execution_count": 23,
     "metadata": {},
     "output_type": "execute_result"
    }
   ],
   "source": [
    "payroll_gs_id = '1c_WihqTZCQvNgxzmd-OwhR9i5diwtfxXVLyMn8R-Lp4'\n",
    "payroll_full_url = f'https://docs.google.com/spreadsheets/d/{payroll_gs_id}/export?format=xlsx'\n",
    "\n",
    "salary_df = pd.read_excel(payroll_full_url, sheet_name='Sheet1')\n",
    "salary_df.head()"
   ]
  },
  {
   "cell_type": "code",
   "execution_count": 24,
   "id": "3feead23",
   "metadata": {},
   "outputs": [
    {
     "data": {
      "text/html": [
       "<div>\n",
       "<style scoped>\n",
       "    .dataframe tbody tr th:only-of-type {\n",
       "        vertical-align: middle;\n",
       "    }\n",
       "\n",
       "    .dataframe tbody tr th {\n",
       "        vertical-align: top;\n",
       "    }\n",
       "\n",
       "    .dataframe thead th {\n",
       "        text-align: right;\n",
       "    }\n",
       "</style>\n",
       "<table border=\"1\" class=\"dataframe\">\n",
       "  <thead>\n",
       "    <tr style=\"text-align: right;\">\n",
       "      <th></th>\n",
       "      <th>month</th>\n",
       "      <th>department</th>\n",
       "      <th>employee_name</th>\n",
       "      <th>position</th>\n",
       "      <th>paid</th>\n",
       "    </tr>\n",
       "  </thead>\n",
       "  <tbody>\n",
       "    <tr>\n",
       "      <th>34</th>\n",
       "      <td>2023-03-01</td>\n",
       "      <td>Sales</td>\n",
       "      <td>John Doe</td>\n",
       "      <td>Sales Manager</td>\n",
       "      <td>1500</td>\n",
       "    </tr>\n",
       "    <tr>\n",
       "      <th>35</th>\n",
       "      <td>2023-03-01</td>\n",
       "      <td>Sales</td>\n",
       "      <td>Jane Smith</td>\n",
       "      <td>Sales Associate</td>\n",
       "      <td>600</td>\n",
       "    </tr>\n",
       "    <tr>\n",
       "      <th>36</th>\n",
       "      <td>2023-03-01</td>\n",
       "      <td>Sales</td>\n",
       "      <td>Jim Brown</td>\n",
       "      <td>Sales Associate</td>\n",
       "      <td>700</td>\n",
       "    </tr>\n",
       "    <tr>\n",
       "      <th>37</th>\n",
       "      <td>2023-03-01</td>\n",
       "      <td>Sales</td>\n",
       "      <td>Laura Miller</td>\n",
       "      <td>Sales Associate</td>\n",
       "      <td>800</td>\n",
       "    </tr>\n",
       "    <tr>\n",
       "      <th>38</th>\n",
       "      <td>2023-03-01</td>\n",
       "      <td>Marketing</td>\n",
       "      <td>Alice Johnson</td>\n",
       "      <td>Marketing Manager</td>\n",
       "      <td>1650</td>\n",
       "    </tr>\n",
       "  </tbody>\n",
       "</table>\n",
       "</div>"
      ],
      "text/plain": [
       "        month department  employee_name           position  paid\n",
       "34 2023-03-01      Sales       John Doe      Sales Manager  1500\n",
       "35 2023-03-01      Sales     Jane Smith    Sales Associate   600\n",
       "36 2023-03-01      Sales      Jim Brown    Sales Associate   700\n",
       "37 2023-03-01      Sales   Laura Miller    Sales Associate   800\n",
       "38 2023-03-01  Marketing  Alice Johnson  Marketing Manager  1650"
      ]
     },
     "execution_count": 24,
     "metadata": {},
     "output_type": "execute_result"
    }
   ],
   "source": [
    "# Last month\n",
    "last_month_payroll_df = salary_df[salary_df['month'] == max_month_expenses]\n",
    "last_month_payroll_df.head()\n"
   ]
  },
  {
   "cell_type": "code",
   "execution_count": 25,
   "id": "01f10780",
   "metadata": {},
   "outputs": [
    {
     "data": {
      "text/plain": [
       "np.int64(5950)"
      ]
     },
     "execution_count": 25,
     "metadata": {},
     "output_type": "execute_result"
    }
   ],
   "source": [
    "last_month_sales_marketing_payroll_expenses = last_month_payroll_df[last_month_payroll_df['department'].isin(['Sales', 'Marketing'])]['paid'].sum()\n",
    "\n",
    "last_month_sales_marketing_payroll_expenses\n"
   ]
  },
  {
   "cell_type": "markdown",
   "id": "a3acf380",
   "metadata": {},
   "source": [
    "## 1.3 Marketing Spending"
   ]
  },
  {
   "cell_type": "code",
   "execution_count": 26,
   "id": "d6344593",
   "metadata": {},
   "outputs": [
    {
     "data": {
      "text/html": [
       "<div>\n",
       "<style scoped>\n",
       "    .dataframe tbody tr th:only-of-type {\n",
       "        vertical-align: middle;\n",
       "    }\n",
       "\n",
       "    .dataframe tbody tr th {\n",
       "        vertical-align: top;\n",
       "    }\n",
       "\n",
       "    .dataframe thead th {\n",
       "        text-align: right;\n",
       "    }\n",
       "</style>\n",
       "<table border=\"1\" class=\"dataframe\">\n",
       "  <thead>\n",
       "    <tr style=\"text-align: right;\">\n",
       "      <th></th>\n",
       "      <th>date</th>\n",
       "      <th>channel</th>\n",
       "      <th>spending</th>\n",
       "    </tr>\n",
       "  </thead>\n",
       "  <tbody>\n",
       "    <tr>\n",
       "      <th>0</th>\n",
       "      <td>2023-01-01</td>\n",
       "      <td>Google Ads</td>\n",
       "      <td>784</td>\n",
       "    </tr>\n",
       "    <tr>\n",
       "      <th>1</th>\n",
       "      <td>2023-01-01</td>\n",
       "      <td>Facebook Ads</td>\n",
       "      <td>659</td>\n",
       "    </tr>\n",
       "    <tr>\n",
       "      <th>2</th>\n",
       "      <td>2023-01-01</td>\n",
       "      <td>LinkedIn Ads</td>\n",
       "      <td>729</td>\n",
       "    </tr>\n",
       "    <tr>\n",
       "      <th>3</th>\n",
       "      <td>2023-01-01</td>\n",
       "      <td>Twitter Ads</td>\n",
       "      <td>292</td>\n",
       "    </tr>\n",
       "    <tr>\n",
       "      <th>4</th>\n",
       "      <td>2023-01-02</td>\n",
       "      <td>Google Ads</td>\n",
       "      <td>935</td>\n",
       "    </tr>\n",
       "    <tr>\n",
       "      <th>...</th>\n",
       "      <td>...</td>\n",
       "      <td>...</td>\n",
       "      <td>...</td>\n",
       "    </tr>\n",
       "    <tr>\n",
       "      <th>355</th>\n",
       "      <td>2023-03-30</td>\n",
       "      <td>Twitter Ads</td>\n",
       "      <td>960</td>\n",
       "    </tr>\n",
       "    <tr>\n",
       "      <th>356</th>\n",
       "      <td>2023-03-31</td>\n",
       "      <td>Google Ads</td>\n",
       "      <td>143</td>\n",
       "    </tr>\n",
       "    <tr>\n",
       "      <th>357</th>\n",
       "      <td>2023-03-31</td>\n",
       "      <td>Facebook Ads</td>\n",
       "      <td>183</td>\n",
       "    </tr>\n",
       "    <tr>\n",
       "      <th>358</th>\n",
       "      <td>2023-03-31</td>\n",
       "      <td>LinkedIn Ads</td>\n",
       "      <td>533</td>\n",
       "    </tr>\n",
       "    <tr>\n",
       "      <th>359</th>\n",
       "      <td>2023-03-31</td>\n",
       "      <td>Twitter Ads</td>\n",
       "      <td>909</td>\n",
       "    </tr>\n",
       "  </tbody>\n",
       "</table>\n",
       "<p>360 rows × 3 columns</p>\n",
       "</div>"
      ],
      "text/plain": [
       "          date       channel  spending\n",
       "0   2023-01-01    Google Ads       784\n",
       "1   2023-01-01  Facebook Ads       659\n",
       "2   2023-01-01  LinkedIn Ads       729\n",
       "3   2023-01-01   Twitter Ads       292\n",
       "4   2023-01-02    Google Ads       935\n",
       "..         ...           ...       ...\n",
       "355 2023-03-30   Twitter Ads       960\n",
       "356 2023-03-31    Google Ads       143\n",
       "357 2023-03-31  Facebook Ads       183\n",
       "358 2023-03-31  LinkedIn Ads       533\n",
       "359 2023-03-31   Twitter Ads       909\n",
       "\n",
       "[360 rows x 3 columns]"
      ]
     },
     "execution_count": 26,
     "metadata": {},
     "output_type": "execute_result"
    }
   ],
   "source": [
    "# Load data\n",
    "marketing_gs_id = '1AZOIThOV4P-0eYDge53ZwumVkfkHoYPWxst3k3Bv87c'\n",
    "marketing_full_url = f'https://docs.google.com/spreadsheets/d/{marketing_gs_id}/export?format=xlsx'\n",
    "\n",
    "marketing_df = pd.read_excel(marketing_full_url, sheet_name='Sheet1')\n",
    "marketing_df\n"
   ]
  },
  {
   "cell_type": "code",
   "execution_count": 27,
   "id": "7cc85a6c",
   "metadata": {},
   "outputs": [
    {
     "data": {
      "text/plain": [
       "Period('2023-03', 'M')"
      ]
     },
     "execution_count": 27,
     "metadata": {},
     "output_type": "execute_result"
    }
   ],
   "source": [
    "target_month = max_month_expenses.to_period('M')\n",
    "target_month"
   ]
  },
  {
   "cell_type": "code",
   "execution_count": 28,
   "id": "4acdaeb5",
   "metadata": {},
   "outputs": [],
   "source": [
    "market_spending_cost = marketing_df[marketing_df['date'].dt.to_period('M') == target_month]['spending'].sum()\n"
   ]
  },
  {
   "cell_type": "code",
   "execution_count": 29,
   "id": "b1164e02",
   "metadata": {},
   "outputs": [
    {
     "data": {
      "text/plain": [
       "np.int64(76480)"
      ]
     },
     "execution_count": 29,
     "metadata": {},
     "output_type": "execute_result"
    }
   ],
   "source": [
    "total_sales_mrkt_expenses = crm_cost + last_month_sales_marketing_payroll_expenses + market_spending_cost\n",
    "total_sales_mrkt_expenses\n"
   ]
  },
  {
   "cell_type": "markdown",
   "id": "f9690198",
   "metadata": {},
   "source": [
    "## Number of customers"
   ]
  },
  {
   "cell_type": "code",
   "execution_count": 30,
   "id": "9c80b333",
   "metadata": {},
   "outputs": [
    {
     "data": {
      "text/html": [
       "<div>\n",
       "<style scoped>\n",
       "    .dataframe tbody tr th:only-of-type {\n",
       "        vertical-align: middle;\n",
       "    }\n",
       "\n",
       "    .dataframe tbody tr th {\n",
       "        vertical-align: top;\n",
       "    }\n",
       "\n",
       "    .dataframe thead th {\n",
       "        text-align: right;\n",
       "    }\n",
       "</style>\n",
       "<table border=\"1\" class=\"dataframe\">\n",
       "  <thead>\n",
       "    <tr style=\"text-align: right;\">\n",
       "      <th></th>\n",
       "      <th>date</th>\n",
       "      <th>customer_id</th>\n",
       "      <th>receipt_amount</th>\n",
       "      <th>new_customer</th>\n",
       "    </tr>\n",
       "  </thead>\n",
       "  <tbody>\n",
       "    <tr>\n",
       "      <th>0</th>\n",
       "      <td>2023-01-01</td>\n",
       "      <td>2653</td>\n",
       "      <td>67</td>\n",
       "      <td>1</td>\n",
       "    </tr>\n",
       "    <tr>\n",
       "      <th>1</th>\n",
       "      <td>2023-01-01</td>\n",
       "      <td>2731</td>\n",
       "      <td>271</td>\n",
       "      <td>1</td>\n",
       "    </tr>\n",
       "    <tr>\n",
       "      <th>2</th>\n",
       "      <td>2023-01-01</td>\n",
       "      <td>1277</td>\n",
       "      <td>231</td>\n",
       "      <td>0</td>\n",
       "    </tr>\n",
       "    <tr>\n",
       "      <th>3</th>\n",
       "      <td>2023-01-01</td>\n",
       "      <td>2094</td>\n",
       "      <td>107</td>\n",
       "      <td>0</td>\n",
       "    </tr>\n",
       "    <tr>\n",
       "      <th>4</th>\n",
       "      <td>2023-01-01</td>\n",
       "      <td>1314</td>\n",
       "      <td>416</td>\n",
       "      <td>0</td>\n",
       "    </tr>\n",
       "    <tr>\n",
       "      <th>...</th>\n",
       "      <td>...</td>\n",
       "      <td>...</td>\n",
       "      <td>...</td>\n",
       "      <td>...</td>\n",
       "    </tr>\n",
       "    <tr>\n",
       "      <th>924</th>\n",
       "      <td>2023-03-31</td>\n",
       "      <td>2079</td>\n",
       "      <td>358</td>\n",
       "      <td>0</td>\n",
       "    </tr>\n",
       "    <tr>\n",
       "      <th>925</th>\n",
       "      <td>2023-03-31</td>\n",
       "      <td>2089</td>\n",
       "      <td>375</td>\n",
       "      <td>0</td>\n",
       "    </tr>\n",
       "    <tr>\n",
       "      <th>926</th>\n",
       "      <td>2023-03-31</td>\n",
       "      <td>1355</td>\n",
       "      <td>249</td>\n",
       "      <td>0</td>\n",
       "    </tr>\n",
       "    <tr>\n",
       "      <th>927</th>\n",
       "      <td>2023-03-31</td>\n",
       "      <td>1062</td>\n",
       "      <td>111</td>\n",
       "      <td>0</td>\n",
       "    </tr>\n",
       "    <tr>\n",
       "      <th>928</th>\n",
       "      <td>2023-03-31</td>\n",
       "      <td>1590</td>\n",
       "      <td>271</td>\n",
       "      <td>0</td>\n",
       "    </tr>\n",
       "  </tbody>\n",
       "</table>\n",
       "<p>929 rows × 4 columns</p>\n",
       "</div>"
      ],
      "text/plain": [
       "          date  customer_id  receipt_amount  new_customer\n",
       "0   2023-01-01         2653              67             1\n",
       "1   2023-01-01         2731             271             1\n",
       "2   2023-01-01         1277             231             0\n",
       "3   2023-01-01         2094             107             0\n",
       "4   2023-01-01         1314             416             0\n",
       "..         ...          ...             ...           ...\n",
       "924 2023-03-31         2079             358             0\n",
       "925 2023-03-31         2089             375             0\n",
       "926 2023-03-31         1355             249             0\n",
       "927 2023-03-31         1062             111             0\n",
       "928 2023-03-31         1590             271             0\n",
       "\n",
       "[929 rows x 4 columns]"
      ]
     },
     "execution_count": 30,
     "metadata": {},
     "output_type": "execute_result"
    }
   ],
   "source": [
    "# Load customer data\n",
    "receipts_gs_id = '1qayqML1zCKdmtzutkcy9LWvE6xFRm6TGBEVkHHJKIuE'\n",
    "receipts_full_url = f'https://docs.google.com/spreadsheets/d/{receipts_gs_id}/export?format=xlsx'\n",
    "\n",
    "receipts_df = pd.read_excel(receipts_full_url, sheet_name='Sheet1')\n",
    "receipts_df\n"
   ]
  },
  {
   "cell_type": "code",
   "execution_count": 31,
   "id": "5901fc3a",
   "metadata": {},
   "outputs": [
    {
     "data": {
      "text/html": [
       "<div>\n",
       "<style scoped>\n",
       "    .dataframe tbody tr th:only-of-type {\n",
       "        vertical-align: middle;\n",
       "    }\n",
       "\n",
       "    .dataframe tbody tr th {\n",
       "        vertical-align: top;\n",
       "    }\n",
       "\n",
       "    .dataframe thead th {\n",
       "        text-align: right;\n",
       "    }\n",
       "</style>\n",
       "<table border=\"1\" class=\"dataframe\">\n",
       "  <thead>\n",
       "    <tr style=\"text-align: right;\">\n",
       "      <th></th>\n",
       "      <th>date</th>\n",
       "      <th>customer_id</th>\n",
       "      <th>receipt_amount</th>\n",
       "      <th>new_customer</th>\n",
       "    </tr>\n",
       "  </thead>\n",
       "  <tbody>\n",
       "    <tr>\n",
       "      <th>618</th>\n",
       "      <td>2023-03-01</td>\n",
       "      <td>1062</td>\n",
       "      <td>103</td>\n",
       "      <td>0</td>\n",
       "    </tr>\n",
       "    <tr>\n",
       "      <th>619</th>\n",
       "      <td>2023-03-01</td>\n",
       "      <td>2243</td>\n",
       "      <td>157</td>\n",
       "      <td>0</td>\n",
       "    </tr>\n",
       "    <tr>\n",
       "      <th>620</th>\n",
       "      <td>2023-03-01</td>\n",
       "      <td>1166</td>\n",
       "      <td>372</td>\n",
       "      <td>0</td>\n",
       "    </tr>\n",
       "    <tr>\n",
       "      <th>621</th>\n",
       "      <td>2023-03-01</td>\n",
       "      <td>2406</td>\n",
       "      <td>426</td>\n",
       "      <td>1</td>\n",
       "    </tr>\n",
       "    <tr>\n",
       "      <th>622</th>\n",
       "      <td>2023-03-01</td>\n",
       "      <td>2761</td>\n",
       "      <td>41</td>\n",
       "      <td>1</td>\n",
       "    </tr>\n",
       "    <tr>\n",
       "      <th>...</th>\n",
       "      <td>...</td>\n",
       "      <td>...</td>\n",
       "      <td>...</td>\n",
       "      <td>...</td>\n",
       "    </tr>\n",
       "    <tr>\n",
       "      <th>924</th>\n",
       "      <td>2023-03-31</td>\n",
       "      <td>2079</td>\n",
       "      <td>358</td>\n",
       "      <td>0</td>\n",
       "    </tr>\n",
       "    <tr>\n",
       "      <th>925</th>\n",
       "      <td>2023-03-31</td>\n",
       "      <td>2089</td>\n",
       "      <td>375</td>\n",
       "      <td>0</td>\n",
       "    </tr>\n",
       "    <tr>\n",
       "      <th>926</th>\n",
       "      <td>2023-03-31</td>\n",
       "      <td>1355</td>\n",
       "      <td>249</td>\n",
       "      <td>0</td>\n",
       "    </tr>\n",
       "    <tr>\n",
       "      <th>927</th>\n",
       "      <td>2023-03-31</td>\n",
       "      <td>1062</td>\n",
       "      <td>111</td>\n",
       "      <td>0</td>\n",
       "    </tr>\n",
       "    <tr>\n",
       "      <th>928</th>\n",
       "      <td>2023-03-31</td>\n",
       "      <td>1590</td>\n",
       "      <td>271</td>\n",
       "      <td>0</td>\n",
       "    </tr>\n",
       "  </tbody>\n",
       "</table>\n",
       "<p>311 rows × 4 columns</p>\n",
       "</div>"
      ],
      "text/plain": [
       "          date  customer_id  receipt_amount  new_customer\n",
       "618 2023-03-01         1062             103             0\n",
       "619 2023-03-01         2243             157             0\n",
       "620 2023-03-01         1166             372             0\n",
       "621 2023-03-01         2406             426             1\n",
       "622 2023-03-01         2761              41             1\n",
       "..         ...          ...             ...           ...\n",
       "924 2023-03-31         2079             358             0\n",
       "925 2023-03-31         2089             375             0\n",
       "926 2023-03-31         1355             249             0\n",
       "927 2023-03-31         1062             111             0\n",
       "928 2023-03-31         1590             271             0\n",
       "\n",
       "[311 rows x 4 columns]"
      ]
     },
     "execution_count": 31,
     "metadata": {},
     "output_type": "execute_result"
    }
   ],
   "source": [
    "last_month_receipts_df = receipts_df[receipts_df['date'].dt.to_period('M') == target_month]\n",
    "last_month_receipts_df"
   ]
  },
  {
   "cell_type": "code",
   "execution_count": 32,
   "id": "d756aa60",
   "metadata": {},
   "outputs": [
    {
     "data": {
      "text/html": [
       "<div>\n",
       "<style scoped>\n",
       "    .dataframe tbody tr th:only-of-type {\n",
       "        vertical-align: middle;\n",
       "    }\n",
       "\n",
       "    .dataframe tbody tr th {\n",
       "        vertical-align: top;\n",
       "    }\n",
       "\n",
       "    .dataframe thead th {\n",
       "        text-align: right;\n",
       "    }\n",
       "</style>\n",
       "<table border=\"1\" class=\"dataframe\">\n",
       "  <thead>\n",
       "    <tr style=\"text-align: right;\">\n",
       "      <th></th>\n",
       "      <th>date</th>\n",
       "      <th>customer_id</th>\n",
       "      <th>receipt_amount</th>\n",
       "      <th>new_customer</th>\n",
       "    </tr>\n",
       "  </thead>\n",
       "  <tbody>\n",
       "    <tr>\n",
       "      <th>621</th>\n",
       "      <td>2023-03-01</td>\n",
       "      <td>2406</td>\n",
       "      <td>426</td>\n",
       "      <td>1</td>\n",
       "    </tr>\n",
       "    <tr>\n",
       "      <th>622</th>\n",
       "      <td>2023-03-01</td>\n",
       "      <td>2761</td>\n",
       "      <td>41</td>\n",
       "      <td>1</td>\n",
       "    </tr>\n",
       "    <tr>\n",
       "      <th>625</th>\n",
       "      <td>2023-03-01</td>\n",
       "      <td>2844</td>\n",
       "      <td>252</td>\n",
       "      <td>1</td>\n",
       "    </tr>\n",
       "    <tr>\n",
       "      <th>627</th>\n",
       "      <td>2023-03-01</td>\n",
       "      <td>2679</td>\n",
       "      <td>323</td>\n",
       "      <td>1</td>\n",
       "    </tr>\n",
       "    <tr>\n",
       "      <th>633</th>\n",
       "      <td>2023-03-02</td>\n",
       "      <td>1475</td>\n",
       "      <td>40</td>\n",
       "      <td>1</td>\n",
       "    </tr>\n",
       "    <tr>\n",
       "      <th>...</th>\n",
       "      <td>...</td>\n",
       "      <td>...</td>\n",
       "      <td>...</td>\n",
       "      <td>...</td>\n",
       "    </tr>\n",
       "    <tr>\n",
       "      <th>912</th>\n",
       "      <td>2023-03-29</td>\n",
       "      <td>1746</td>\n",
       "      <td>262</td>\n",
       "      <td>1</td>\n",
       "    </tr>\n",
       "    <tr>\n",
       "      <th>913</th>\n",
       "      <td>2023-03-29</td>\n",
       "      <td>2269</td>\n",
       "      <td>484</td>\n",
       "      <td>1</td>\n",
       "    </tr>\n",
       "    <tr>\n",
       "      <th>914</th>\n",
       "      <td>2023-03-29</td>\n",
       "      <td>2935</td>\n",
       "      <td>478</td>\n",
       "      <td>1</td>\n",
       "    </tr>\n",
       "    <tr>\n",
       "      <th>919</th>\n",
       "      <td>2023-03-29</td>\n",
       "      <td>1297</td>\n",
       "      <td>496</td>\n",
       "      <td>1</td>\n",
       "    </tr>\n",
       "    <tr>\n",
       "      <th>920</th>\n",
       "      <td>2023-03-30</td>\n",
       "      <td>2151</td>\n",
       "      <td>482</td>\n",
       "      <td>1</td>\n",
       "    </tr>\n",
       "  </tbody>\n",
       "</table>\n",
       "<p>63 rows × 4 columns</p>\n",
       "</div>"
      ],
      "text/plain": [
       "          date  customer_id  receipt_amount  new_customer\n",
       "621 2023-03-01         2406             426             1\n",
       "622 2023-03-01         2761              41             1\n",
       "625 2023-03-01         2844             252             1\n",
       "627 2023-03-01         2679             323             1\n",
       "633 2023-03-02         1475              40             1\n",
       "..         ...          ...             ...           ...\n",
       "912 2023-03-29         1746             262             1\n",
       "913 2023-03-29         2269             484             1\n",
       "914 2023-03-29         2935             478             1\n",
       "919 2023-03-29         1297             496             1\n",
       "920 2023-03-30         2151             482             1\n",
       "\n",
       "[63 rows x 4 columns]"
      ]
     },
     "execution_count": 32,
     "metadata": {},
     "output_type": "execute_result"
    }
   ],
   "source": [
    "# Get last month data\n",
    "new_customers_df = last_month_receipts_df[last_month_receipts_df['new_customer'] == 1]\n",
    "new_customers_df\n",
    "\n"
   ]
  },
  {
   "cell_type": "code",
   "execution_count": 33,
   "id": "d1378c5f",
   "metadata": {},
   "outputs": [
    {
     "data": {
      "text/plain": [
       "np.int64(63)"
      ]
     },
     "execution_count": 33,
     "metadata": {},
     "output_type": "execute_result"
    }
   ],
   "source": [
    "number_of_new_customers = new_customers_df['new_customer'].sum()\n",
    "number_of_new_customers"
   ]
  },
  {
   "cell_type": "markdown",
   "id": "6cfb04e2",
   "metadata": {},
   "source": [
    "## 1.5 Final : Calculating CAC"
   ]
  },
  {
   "cell_type": "code",
   "execution_count": 34,
   "id": "36f4d25e",
   "metadata": {},
   "outputs": [
    {
     "data": {
      "text/plain": [
       "np.float64(1213.968253968254)"
      ]
     },
     "execution_count": 34,
     "metadata": {},
     "output_type": "execute_result"
    }
   ],
   "source": [
    "CAC = total_sales_mrkt_expenses / number_of_new_customers\n",
    "CAC"
   ]
  },
  {
   "cell_type": "markdown",
   "id": "9c454931",
   "metadata": {},
   "source": [
    "## 2. ARPU ( Average revenue per user) "
   ]
  },
  {
   "cell_type": "markdown",
   "id": "de492c3b",
   "metadata": {},
   "source": [
    "**2.1 Total Revenue**"
   ]
  },
  {
   "cell_type": "code",
   "execution_count": 35,
   "id": "d2bdaaac",
   "metadata": {},
   "outputs": [
    {
     "data": {
      "text/plain": [
       "np.int64(83033)"
      ]
     },
     "execution_count": 35,
     "metadata": {},
     "output_type": "execute_result"
    }
   ],
   "source": [
    "total_revenue = last_month_receipts_df['receipt_amount'].sum()\n",
    "total_revenue"
   ]
  },
  {
   "cell_type": "markdown",
   "id": "4263bc55",
   "metadata": {},
   "source": [
    "**2.2 Number of users**"
   ]
  },
  {
   "cell_type": "code",
   "execution_count": 36,
   "id": "cbd4af26",
   "metadata": {},
   "outputs": [
    {
     "data": {
      "text/plain": [
       "292"
      ]
     },
     "execution_count": 36,
     "metadata": {},
     "output_type": "execute_result"
    }
   ],
   "source": [
    "num_users = len(last_month_receipts_df['customer_id'].unique())\n",
    "num_users"
   ]
  },
  {
   "cell_type": "markdown",
   "id": "f02b8d3c",
   "metadata": {},
   "source": [
    "**2.3 Calculating ARPU**"
   ]
  },
  {
   "cell_type": "code",
   "execution_count": 37,
   "id": "438f371a",
   "metadata": {},
   "outputs": [
    {
     "data": {
      "text/plain": [
       "np.float64(284.3595890410959)"
      ]
     },
     "execution_count": 37,
     "metadata": {},
     "output_type": "execute_result"
    }
   ],
   "source": [
    "ARPU = total_revenue / num_users\n",
    "ARPU"
   ]
  },
  {
   "cell_type": "markdown",
   "id": "c3a1207a",
   "metadata": {},
   "source": [
    "## 3. COGS (Cost of Goods Sold)"
   ]
  },
  {
   "cell_type": "code",
   "execution_count": 38,
   "id": "d4927ec5",
   "metadata": {},
   "outputs": [
    {
     "data": {
      "text/html": [
       "<div>\n",
       "<style scoped>\n",
       "    .dataframe tbody tr th:only-of-type {\n",
       "        vertical-align: middle;\n",
       "    }\n",
       "\n",
       "    .dataframe tbody tr th {\n",
       "        vertical-align: top;\n",
       "    }\n",
       "\n",
       "    .dataframe thead th {\n",
       "        text-align: right;\n",
       "    }\n",
       "</style>\n",
       "<table border=\"1\" class=\"dataframe\">\n",
       "  <thead>\n",
       "    <tr style=\"text-align: right;\">\n",
       "      <th></th>\n",
       "      <th>#</th>\n",
       "      <th>month</th>\n",
       "      <th>category</th>\n",
       "      <th>item</th>\n",
       "      <th>amount</th>\n",
       "    </tr>\n",
       "  </thead>\n",
       "  <tbody>\n",
       "    <tr>\n",
       "      <th>18</th>\n",
       "      <td>19</td>\n",
       "      <td>2023-03-01</td>\n",
       "      <td>Server Costs</td>\n",
       "      <td>AWS Hosting</td>\n",
       "      <td>8400</td>\n",
       "    </tr>\n",
       "    <tr>\n",
       "      <th>19</th>\n",
       "      <td>20</td>\n",
       "      <td>2023-03-01</td>\n",
       "      <td>Server Costs</td>\n",
       "      <td>Google Cloud Storage</td>\n",
       "      <td>4400</td>\n",
       "    </tr>\n",
       "    <tr>\n",
       "      <th>20</th>\n",
       "      <td>21</td>\n",
       "      <td>2023-03-01</td>\n",
       "      <td>Software Licenses</td>\n",
       "      <td>Atlassian Jira</td>\n",
       "      <td>1400</td>\n",
       "    </tr>\n",
       "    <tr>\n",
       "      <th>21</th>\n",
       "      <td>22</td>\n",
       "      <td>2023-03-01</td>\n",
       "      <td>Software Licenses</td>\n",
       "      <td>Slack</td>\n",
       "      <td>900</td>\n",
       "    </tr>\n",
       "    <tr>\n",
       "      <th>22</th>\n",
       "      <td>23</td>\n",
       "      <td>2023-03-01</td>\n",
       "      <td>Software Licenses</td>\n",
       "      <td>Salesforce</td>\n",
       "      <td>1700</td>\n",
       "    </tr>\n",
       "    <tr>\n",
       "      <th>23</th>\n",
       "      <td>24</td>\n",
       "      <td>2023-03-01</td>\n",
       "      <td>Software Licenses</td>\n",
       "      <td>Zoom</td>\n",
       "      <td>540</td>\n",
       "    </tr>\n",
       "    <tr>\n",
       "      <th>24</th>\n",
       "      <td>25</td>\n",
       "      <td>2023-03-01</td>\n",
       "      <td>Office Rental</td>\n",
       "      <td>Office Rent</td>\n",
       "      <td>10000</td>\n",
       "    </tr>\n",
       "    <tr>\n",
       "      <th>25</th>\n",
       "      <td>26</td>\n",
       "      <td>2023-03-01</td>\n",
       "      <td>Other</td>\n",
       "      <td>Office Supplies</td>\n",
       "      <td>600</td>\n",
       "    </tr>\n",
       "    <tr>\n",
       "      <th>26</th>\n",
       "      <td>27</td>\n",
       "      <td>2023-03-01</td>\n",
       "      <td>Other</td>\n",
       "      <td>Travel Expenses</td>\n",
       "      <td>3200</td>\n",
       "    </tr>\n",
       "  </tbody>\n",
       "</table>\n",
       "</div>"
      ],
      "text/plain": [
       "     #      month           category                  item  amount\n",
       "18  19 2023-03-01       Server Costs           AWS Hosting    8400\n",
       "19  20 2023-03-01       Server Costs  Google Cloud Storage    4400\n",
       "20  21 2023-03-01  Software Licenses        Atlassian Jira    1400\n",
       "21  22 2023-03-01  Software Licenses                 Slack     900\n",
       "22  23 2023-03-01  Software Licenses            Salesforce    1700\n",
       "23  24 2023-03-01  Software Licenses                  Zoom     540\n",
       "24  25 2023-03-01      Office Rental           Office Rent   10000\n",
       "25  26 2023-03-01              Other       Office Supplies     600\n",
       "26  27 2023-03-01              Other       Travel Expenses    3200"
      ]
     },
     "execution_count": 38,
     "metadata": {},
     "output_type": "execute_result"
    }
   ],
   "source": [
    "# Purchase during period for SaaS including Server Costs + \tSoftware Licenses + salary of employees directly involved in the SaaS\n",
    "last_month_expenses_df  "
   ]
  },
  {
   "cell_type": "code",
   "execution_count": 39,
   "id": "e9311bec",
   "metadata": {},
   "outputs": [
    {
     "data": {
      "text/html": [
       "<div>\n",
       "<style scoped>\n",
       "    .dataframe tbody tr th:only-of-type {\n",
       "        vertical-align: middle;\n",
       "    }\n",
       "\n",
       "    .dataframe tbody tr th {\n",
       "        vertical-align: top;\n",
       "    }\n",
       "\n",
       "    .dataframe thead th {\n",
       "        text-align: right;\n",
       "    }\n",
       "</style>\n",
       "<table border=\"1\" class=\"dataframe\">\n",
       "  <thead>\n",
       "    <tr style=\"text-align: right;\">\n",
       "      <th></th>\n",
       "      <th>#</th>\n",
       "      <th>month</th>\n",
       "      <th>category</th>\n",
       "      <th>item</th>\n",
       "      <th>amount</th>\n",
       "    </tr>\n",
       "  </thead>\n",
       "  <tbody>\n",
       "    <tr>\n",
       "      <th>18</th>\n",
       "      <td>19</td>\n",
       "      <td>2023-03-01</td>\n",
       "      <td>Server Costs</td>\n",
       "      <td>AWS Hosting</td>\n",
       "      <td>8400</td>\n",
       "    </tr>\n",
       "    <tr>\n",
       "      <th>19</th>\n",
       "      <td>20</td>\n",
       "      <td>2023-03-01</td>\n",
       "      <td>Server Costs</td>\n",
       "      <td>Google Cloud Storage</td>\n",
       "      <td>4400</td>\n",
       "    </tr>\n",
       "    <tr>\n",
       "      <th>20</th>\n",
       "      <td>21</td>\n",
       "      <td>2023-03-01</td>\n",
       "      <td>Software Licenses</td>\n",
       "      <td>Atlassian Jira</td>\n",
       "      <td>1400</td>\n",
       "    </tr>\n",
       "    <tr>\n",
       "      <th>21</th>\n",
       "      <td>22</td>\n",
       "      <td>2023-03-01</td>\n",
       "      <td>Software Licenses</td>\n",
       "      <td>Slack</td>\n",
       "      <td>900</td>\n",
       "    </tr>\n",
       "    <tr>\n",
       "      <th>22</th>\n",
       "      <td>23</td>\n",
       "      <td>2023-03-01</td>\n",
       "      <td>Software Licenses</td>\n",
       "      <td>Salesforce</td>\n",
       "      <td>1700</td>\n",
       "    </tr>\n",
       "    <tr>\n",
       "      <th>23</th>\n",
       "      <td>24</td>\n",
       "      <td>2023-03-01</td>\n",
       "      <td>Software Licenses</td>\n",
       "      <td>Zoom</td>\n",
       "      <td>540</td>\n",
       "    </tr>\n",
       "  </tbody>\n",
       "</table>\n",
       "</div>"
      ],
      "text/plain": [
       "     #      month           category                  item  amount\n",
       "18  19 2023-03-01       Server Costs           AWS Hosting    8400\n",
       "19  20 2023-03-01       Server Costs  Google Cloud Storage    4400\n",
       "20  21 2023-03-01  Software Licenses        Atlassian Jira    1400\n",
       "21  22 2023-03-01  Software Licenses                 Slack     900\n",
       "22  23 2023-03-01  Software Licenses            Salesforce    1700\n",
       "23  24 2023-03-01  Software Licenses                  Zoom     540"
      ]
     },
     "execution_count": 39,
     "metadata": {},
     "output_type": "execute_result"
    }
   ],
   "source": [
    "last_month_expenses_df[last_month_expenses_df['category'].isin(['Software Licenses', 'Server Costs'])]\n",
    "\n"
   ]
  },
  {
   "cell_type": "code",
   "execution_count": 40,
   "id": "41811beb",
   "metadata": {},
   "outputs": [
    {
     "data": {
      "text/plain": [
       "np.float64(15064.0)"
      ]
     },
     "execution_count": 40,
     "metadata": {},
     "output_type": "execute_result"
    }
   ],
   "source": [
    "items = ['AWS Hosting', 'Google Cloud Storage', 'Atlassian Jira']\n",
    "shared_items = ['Slack', 'Zoom']\n",
    "\n",
    "item_expense = last_month_expenses_df[last_month_expenses_df['item'].isin(items)]['amount'].sum()\n",
    "\n",
    "shared_items_expenses = last_month_expenses_df[last_month_expenses_df['item'].isin(shared_items)]['amount'].sum()\n",
    "\n",
    "server_n_software_expense = item_expense + shared_items_expenses * 0.6\n",
    "server_n_software_expense\n"
   ]
  },
  {
   "cell_type": "code",
   "execution_count": 41,
   "id": "c305ed39",
   "metadata": {},
   "outputs": [
    {
     "data": {
      "text/plain": [
       "np.int64(5200)"
      ]
     },
     "execution_count": 41,
     "metadata": {},
     "output_type": "execute_result"
    }
   ],
   "source": [
    "production_salaries = last_month_payroll_df[last_month_payroll_df['department'] == 'Engineering']['paid'].sum()\n",
    "production_salaries\n"
   ]
  },
  {
   "cell_type": "code",
   "execution_count": 42,
   "id": "7bcc15a5",
   "metadata": {},
   "outputs": [
    {
     "data": {
      "text/plain": [
       "np.float64(20264.0)"
      ]
     },
     "execution_count": 42,
     "metadata": {},
     "output_type": "execute_result"
    }
   ],
   "source": [
    "COGS = production_salaries + server_n_software_expense\n",
    "COGS\n"
   ]
  },
  {
   "cell_type": "markdown",
   "id": "3dc0eb99",
   "metadata": {},
   "source": [
    "## 4. Gross Margin"
   ]
  },
  {
   "cell_type": "code",
   "execution_count": 43,
   "id": "e22b98b3",
   "metadata": {},
   "outputs": [
    {
     "data": {
      "text/plain": [
       "np.float64(75.5952452639312)"
      ]
     },
     "execution_count": 43,
     "metadata": {},
     "output_type": "execute_result"
    }
   ],
   "source": [
    "gross_margin = (total_revenue - COGS) / total_revenue * 100\n",
    "gross_margin\n"
   ]
  },
  {
   "cell_type": "markdown",
   "id": "716258a2",
   "metadata": {},
   "source": [
    "## 5. LTV (Customer lifetime value)"
   ]
  },
  {
   "cell_type": "code",
   "execution_count": 44,
   "id": "f331eb17",
   "metadata": {},
   "outputs": [
    {
     "data": {
      "text/html": [
       "<div>\n",
       "<style scoped>\n",
       "    .dataframe tbody tr th:only-of-type {\n",
       "        vertical-align: middle;\n",
       "    }\n",
       "\n",
       "    .dataframe tbody tr th {\n",
       "        vertical-align: top;\n",
       "    }\n",
       "\n",
       "    .dataframe thead th {\n",
       "        text-align: right;\n",
       "    }\n",
       "</style>\n",
       "<table border=\"1\" class=\"dataframe\">\n",
       "  <thead>\n",
       "    <tr style=\"text-align: right;\">\n",
       "      <th></th>\n",
       "      <th>Unnamed: 0</th>\n",
       "      <th>start_date</th>\n",
       "      <th>churn_date</th>\n",
       "    </tr>\n",
       "  </thead>\n",
       "  <tbody>\n",
       "    <tr>\n",
       "      <th>0</th>\n",
       "      <td>1000</td>\n",
       "      <td>2021-11-15</td>\n",
       "      <td>2022-09-14</td>\n",
       "    </tr>\n",
       "    <tr>\n",
       "      <th>1</th>\n",
       "      <td>1001</td>\n",
       "      <td>2022-04-15</td>\n",
       "      <td>2023-02-16</td>\n",
       "    </tr>\n",
       "    <tr>\n",
       "      <th>2</th>\n",
       "      <td>1002</td>\n",
       "      <td>2022-10-30</td>\n",
       "      <td>2023-02-04</td>\n",
       "    </tr>\n",
       "    <tr>\n",
       "      <th>3</th>\n",
       "      <td>1003</td>\n",
       "      <td>2021-08-22</td>\n",
       "      <td>2023-02-07</td>\n",
       "    </tr>\n",
       "    <tr>\n",
       "      <th>4</th>\n",
       "      <td>1004</td>\n",
       "      <td>2021-08-23</td>\n",
       "      <td>2022-02-02</td>\n",
       "    </tr>\n",
       "    <tr>\n",
       "      <th>...</th>\n",
       "      <td>...</td>\n",
       "      <td>...</td>\n",
       "      <td>...</td>\n",
       "    </tr>\n",
       "    <tr>\n",
       "      <th>95</th>\n",
       "      <td>1095</td>\n",
       "      <td>2023-01-09</td>\n",
       "      <td>2023-02-28</td>\n",
       "    </tr>\n",
       "    <tr>\n",
       "      <th>96</th>\n",
       "      <td>1096</td>\n",
       "      <td>2020-07-08</td>\n",
       "      <td>2020-08-09</td>\n",
       "    </tr>\n",
       "    <tr>\n",
       "      <th>97</th>\n",
       "      <td>1097</td>\n",
       "      <td>2020-10-18</td>\n",
       "      <td>2022-05-08</td>\n",
       "    </tr>\n",
       "    <tr>\n",
       "      <th>98</th>\n",
       "      <td>1098</td>\n",
       "      <td>2020-06-17</td>\n",
       "      <td>2022-06-13</td>\n",
       "    </tr>\n",
       "    <tr>\n",
       "      <th>99</th>\n",
       "      <td>1099</td>\n",
       "      <td>2020-06-25</td>\n",
       "      <td>2023-02-12</td>\n",
       "    </tr>\n",
       "  </tbody>\n",
       "</table>\n",
       "<p>100 rows × 3 columns</p>\n",
       "</div>"
      ],
      "text/plain": [
       "    Unnamed: 0 start_date churn_date\n",
       "0         1000 2021-11-15 2022-09-14\n",
       "1         1001 2022-04-15 2023-02-16\n",
       "2         1002 2022-10-30 2023-02-04\n",
       "3         1003 2021-08-22 2023-02-07\n",
       "4         1004 2021-08-23 2022-02-02\n",
       "..         ...        ...        ...\n",
       "95        1095 2023-01-09 2023-02-28\n",
       "96        1096 2020-07-08 2020-08-09\n",
       "97        1097 2020-10-18 2022-05-08\n",
       "98        1098 2020-06-17 2022-06-13\n",
       "99        1099 2020-06-25 2023-02-12\n",
       "\n",
       "[100 rows x 3 columns]"
      ]
     },
     "execution_count": 44,
     "metadata": {},
     "output_type": "execute_result"
    }
   ],
   "source": [
    "# Load data\n",
    "customer_lspan_gs_id = '1by8tPHwOnq3uKYK2E7sA9VBUYoPM4p1Rnrm_Ss9cyHI'\n",
    "customer_lspan_full_url = f'https://docs.google.com/spreadsheets/d/{customer_lspan_gs_id}/export?format=xlsx'\n",
    "\n",
    "lifespan_df = pd.read_excel(customer_lspan_full_url, sheet_name='Sheet1')\n",
    "lifespan_df\n"
   ]
  },
  {
   "cell_type": "code",
   "execution_count": 45,
   "id": "ed6627fd",
   "metadata": {},
   "outputs": [
    {
     "data": {
      "text/html": [
       "<div>\n",
       "<style scoped>\n",
       "    .dataframe tbody tr th:only-of-type {\n",
       "        vertical-align: middle;\n",
       "    }\n",
       "\n",
       "    .dataframe tbody tr th {\n",
       "        vertical-align: top;\n",
       "    }\n",
       "\n",
       "    .dataframe thead th {\n",
       "        text-align: right;\n",
       "    }\n",
       "</style>\n",
       "<table border=\"1\" class=\"dataframe\">\n",
       "  <thead>\n",
       "    <tr style=\"text-align: right;\">\n",
       "      <th></th>\n",
       "      <th>Unnamed: 0</th>\n",
       "      <th>start_date</th>\n",
       "      <th>churn_date</th>\n",
       "      <th>lifespan_days</th>\n",
       "    </tr>\n",
       "  </thead>\n",
       "  <tbody>\n",
       "    <tr>\n",
       "      <th>0</th>\n",
       "      <td>1000</td>\n",
       "      <td>2021-11-15</td>\n",
       "      <td>2022-09-14</td>\n",
       "      <td>303</td>\n",
       "    </tr>\n",
       "    <tr>\n",
       "      <th>1</th>\n",
       "      <td>1001</td>\n",
       "      <td>2022-04-15</td>\n",
       "      <td>2023-02-16</td>\n",
       "      <td>307</td>\n",
       "    </tr>\n",
       "    <tr>\n",
       "      <th>2</th>\n",
       "      <td>1002</td>\n",
       "      <td>2022-10-30</td>\n",
       "      <td>2023-02-04</td>\n",
       "      <td>97</td>\n",
       "    </tr>\n",
       "    <tr>\n",
       "      <th>3</th>\n",
       "      <td>1003</td>\n",
       "      <td>2021-08-22</td>\n",
       "      <td>2023-02-07</td>\n",
       "      <td>534</td>\n",
       "    </tr>\n",
       "    <tr>\n",
       "      <th>4</th>\n",
       "      <td>1004</td>\n",
       "      <td>2021-08-23</td>\n",
       "      <td>2022-02-02</td>\n",
       "      <td>163</td>\n",
       "    </tr>\n",
       "    <tr>\n",
       "      <th>...</th>\n",
       "      <td>...</td>\n",
       "      <td>...</td>\n",
       "      <td>...</td>\n",
       "      <td>...</td>\n",
       "    </tr>\n",
       "    <tr>\n",
       "      <th>95</th>\n",
       "      <td>1095</td>\n",
       "      <td>2023-01-09</td>\n",
       "      <td>2023-02-28</td>\n",
       "      <td>50</td>\n",
       "    </tr>\n",
       "    <tr>\n",
       "      <th>96</th>\n",
       "      <td>1096</td>\n",
       "      <td>2020-07-08</td>\n",
       "      <td>2020-08-09</td>\n",
       "      <td>32</td>\n",
       "    </tr>\n",
       "    <tr>\n",
       "      <th>97</th>\n",
       "      <td>1097</td>\n",
       "      <td>2020-10-18</td>\n",
       "      <td>2022-05-08</td>\n",
       "      <td>567</td>\n",
       "    </tr>\n",
       "    <tr>\n",
       "      <th>98</th>\n",
       "      <td>1098</td>\n",
       "      <td>2020-06-17</td>\n",
       "      <td>2022-06-13</td>\n",
       "      <td>726</td>\n",
       "    </tr>\n",
       "    <tr>\n",
       "      <th>99</th>\n",
       "      <td>1099</td>\n",
       "      <td>2020-06-25</td>\n",
       "      <td>2023-02-12</td>\n",
       "      <td>962</td>\n",
       "    </tr>\n",
       "  </tbody>\n",
       "</table>\n",
       "<p>100 rows × 4 columns</p>\n",
       "</div>"
      ],
      "text/plain": [
       "    Unnamed: 0 start_date churn_date  lifespan_days\n",
       "0         1000 2021-11-15 2022-09-14            303\n",
       "1         1001 2022-04-15 2023-02-16            307\n",
       "2         1002 2022-10-30 2023-02-04             97\n",
       "3         1003 2021-08-22 2023-02-07            534\n",
       "4         1004 2021-08-23 2022-02-02            163\n",
       "..         ...        ...        ...            ...\n",
       "95        1095 2023-01-09 2023-02-28             50\n",
       "96        1096 2020-07-08 2020-08-09             32\n",
       "97        1097 2020-10-18 2022-05-08            567\n",
       "98        1098 2020-06-17 2022-06-13            726\n",
       "99        1099 2020-06-25 2023-02-12            962\n",
       "\n",
       "[100 rows x 4 columns]"
      ]
     },
     "execution_count": 45,
     "metadata": {},
     "output_type": "execute_result"
    }
   ],
   "source": [
    "lifespan_df['lifespan_days'] = (lifespan_df['churn_date'] - lifespan_df['start_date']).dt.days\n",
    "lifespan_df"
   ]
  },
  {
   "cell_type": "code",
   "execution_count": 46,
   "id": "9e1df490",
   "metadata": {},
   "outputs": [
    {
     "data": {
      "text/plain": [
       "np.float64(295.24)"
      ]
     },
     "execution_count": 46,
     "metadata": {},
     "output_type": "execute_result"
    }
   ],
   "source": [
    "avg_lifespan_days = lifespan_df['lifespan_days'].mean()\n",
    "avg_lifespan_days"
   ]
  },
  {
   "cell_type": "code",
   "execution_count": 47,
   "id": "90ed56e2",
   "metadata": {},
   "outputs": [
    {
     "data": {
      "text/plain": [
       "np.float64(9.841333333333333)"
      ]
     },
     "execution_count": 47,
     "metadata": {},
     "output_type": "execute_result"
    }
   ],
   "source": [
    "avg_lifespan_months = avg_lifespan_days / 30\n",
    "avg_lifespan_months"
   ]
  },
  {
   "cell_type": "code",
   "execution_count": 48,
   "id": "5ec01afd",
   "metadata": {},
   "outputs": [
    {
     "data": {
      "text/plain": [
       "np.float64(2115.515931506849)"
      ]
     },
     "execution_count": 48,
     "metadata": {},
     "output_type": "execute_result"
    }
   ],
   "source": [
    "LTV = avg_lifespan_months * ARPU * (gross_margin / 100)\n",
    "LTV"
   ]
  },
  {
   "cell_type": "markdown",
   "id": "27335461",
   "metadata": {},
   "source": [
    "## LTV / CAC"
   ]
  },
  {
   "cell_type": "code",
   "execution_count": 49,
   "id": "4cc7f9e9",
   "metadata": {},
   "outputs": [
    {
     "data": {
      "text/plain": [
       "np.float64(1.742645184164899)"
      ]
     },
     "execution_count": 49,
     "metadata": {},
     "output_type": "execute_result"
    }
   ],
   "source": [
    "LTV_CAC_ratio = LTV / CAC\n",
    "LTV_CAC_ratio"
   ]
  },
  {
   "cell_type": "markdown",
   "id": "c9478b18",
   "metadata": {},
   "source": [
    "# Business Analysis: Unit Economics Summary & Recommendations\n",
    "\n",
    "## Executive Summary\n"
   ]
  },
  {
   "cell_type": "code",
   "execution_count": 55,
   "id": "5f432fd4",
   "metadata": {},
   "outputs": [
    {
     "name": "stdout",
     "output_type": "stream",
     "text": [
      "=== UNIT ECONOMICS SUMMARY ===\n",
      "Customer Acquisition Cost (CAC): $1,213.97\n",
      "Average Revenue Per User (ARPU): $284.36\n",
      "Cost of Goods Sold (COGS): $20,264.00\n",
      "Gross Margin: 75.60%\n",
      "Customer Lifetime Value (LTV): $2,115.52\n",
      "LTV/CAC Ratio: 1.74x\n",
      "\n",
      "=== ADDITIONAL METRICS ===\n",
      "Total Revenue (Last Month): $83,033.00\n",
      "Number of Active Users: 292\n",
      "Number of New Customers: 63\n",
      "Average Customer Lifespan: 9.84 months\n"
     ]
    }
   ],
   "source": [
    "# Display all key metrics\n",
    "print(\"=== UNIT ECONOMICS SUMMARY ===\")\n",
    "print(f\"Customer Acquisition Cost (CAC): ${CAC:,.2f}\")\n",
    "print(f\"Average Revenue Per User (ARPU): ${ARPU:,.2f}\")\n",
    "print(f\"Cost of Goods Sold (COGS): ${COGS:,.2f}\")\n",
    "print(f\"Gross Margin: {gross_margin:.2f}%\")\n",
    "print(f\"Customer Lifetime Value (LTV): ${LTV:,.2f}\")\n",
    "print(f\"LTV/CAC Ratio: {LTV_CAC_ratio:.2f}x\")\n",
    "print(\"\\n=== ADDITIONAL METRICS ===\")\n",
    "print(f\"Total Revenue (Last Month): ${total_revenue:,.2f}\")\n",
    "print(f\"Number of Active Users: {num_users:,}\")\n",
    "print(f\"Number of New Customers: {number_of_new_customers:,}\")\n",
    "print(f\"Average Customer Lifespan: {avg_lifespan_months:.2f} months\")\n"
   ]
  },
  {
   "cell_type": "markdown",
   "id": "995100aa",
   "metadata": {},
   "source": [
    "## Key Findings & Business Health Assessment\n",
    "\n",
    "###  LTV/CAC Ratio Analysis\n",
    "The LTV/CAC ratio is one of the most critical metrics for businesses:\n",
    "- **Benchmark Standards:**\n",
    "  - < 1.0x: Unsustainable (losing money on each customer)\n",
    "  - 1.0x - 3.0x: Concerning (low profitability)\n",
    "  - 3.0x - 5.0x: Good (healthy unit economics)\n",
    "  - -> 5.0x: Excellent (very profitable)\n",
    "\n",
    "###  Gross Margin Analysis\n",
    "SaaS companies typically target:\n",
    "- **70%+**: Excellent (world-class SaaS margins)\n",
    "- **60-70%**: Good (healthy SaaS business)\n",
    "- **40-60%**: Acceptable (room for improvement)\n",
    "- **< 40%**: Concerning (high cost structure)\n",
    "\n",
    "###  Customer Economics\n",
    "- **ARPU**: Indicates pricing power and customer value\n",
    "- **CAC**: Shows efficiency of sales & marketing efforts\n",
    "- **Customer Lifespan**: Directly impacts LTV and business sustainability\n"
   ]
  },
  {
   "cell_type": "markdown",
   "id": "75e0d8e3",
   "metadata": {},
   "source": [
    "##  Strategic Recommendations\n",
    "\n",
    "### Immediate Actions (0-3 months)\n",
    "\n",
    "#### 1. **Optimize Customer Acquisition**\n",
    "- **If CAC is high**: Review marketing channel effectiveness and focus on highest-converting channels\n",
    "- **If LTV/CAC < 3.0x**: Implement more cost-effective acquisition strategies\n",
    "- **Action Items**:\n",
    "  - Analyze marketing spend by channel and ROI\n",
    "  - A/B test landing pages and sales funnels\n",
    "  - Improve lead qualification processes\n",
    "\n",
    "#### 2. **Revenue Optimization**\n",
    "- **If ARPU is low**: Consider pricing strategy adjustments or upselling opportunities\n",
    "- **Action Items**:\n",
    "  - Conduct pricing analysis vs. competitors\n",
    "  - Implement usage-based pricing tiers\n",
    "  - Develop customer success programs to drive expansion revenue\n",
    "\n",
    "#### 3. **Cost Structure Review**\n",
    "- **If Gross Margin < 60%**: Focus on operational efficiency\n",
    "- **Action Items**:\n",
    "  - Optimize server costs through better resource management\n",
    "  - Review software licensing for unused tools\n",
    "  - Automate manual processes to reduce labor costs\n",
    "\n",
    "### Medium-term Strategy (3-12 months)\n",
    "\n",
    "#### 4. **Customer Retention & Expansion**\n",
    "- **If customer lifespan is short**: Improve product stickiness and customer success\n",
    "- **Action Items**:\n",
    "  - Implement comprehensive onboarding programs\n",
    "  - Develop customer health scoring\n",
    "  - Create expansion revenue opportunities (upsells, cross-sells)\n",
    "\n",
    "#### 5. **Product Development**\n",
    "- **Focus on features that increase LTV**:\n",
    "  - Analyze feature usage vs. customer retention\n",
    "  - Develop integrations that increase switching costs\n",
    "  - Build enterprise features for higher-tier customers\n",
    "\n",
    "### Long-term Strategic Focus (1+ years)\n",
    "\n",
    "#### 6. **Scale Efficiency**\n",
    "- **Improve unit economics at scale**:\n",
    "  - Invest in automation and self-service capabilities\n",
    "  - Develop partner/channel programs\n",
    "  - Build platform capabilities for ecosystem growth\n"
   ]
  },
  {
   "cell_type": "markdown",
   "id": "f9818a15",
   "metadata": {},
   "source": [
    "##  Monitoring & Next Steps\n",
    "\n",
    "### Key Performance Indicators to Track Monthly\n",
    "\n",
    "1. **LTV/CAC Ratio**: Target > 3.0x for sustainable growth\n",
    "2. **Gross Margin**: Monitor for improvements toward 70%+\n",
    "3. **Customer Churn Rate**: Track monthly and implement retention programs\n",
    "4. **ARPU Growth**: Monitor pricing and expansion revenue success\n",
    "5. **CAC Payback Period**: Time to recover customer acquisition investment\n",
    "\n",
    "---\n",
    "\n",
    "##  Final Conclusion\n",
    "\n",
    "Based on this unit economics analysis, the company should focus on:\n",
    "\n",
    "1. **Immediate**: Optimize the metric with the greatest improvement potential\n",
    "2. **Short-term**: Implement systematic tracking and improvement processes\n",
    "3. **Long-term**: Scale efficiently while maintaining healthy unit economics\n",
    "\n",
    "**Success Criteria**: Achieve and maintain LTV/CAC > 3.0x with gross margins > 60% for sustainable, profitable growth.\n"
   ]
  }
 ],
 "metadata": {
  "kernelspec": {
   "display_name": "Python 3",
   "language": "python",
   "name": "python3"
  },
  "language_info": {
   "codemirror_mode": {
    "name": "ipython",
    "version": 3
   },
   "file_extension": ".py",
   "mimetype": "text/x-python",
   "name": "python",
   "nbconvert_exporter": "python",
   "pygments_lexer": "ipython3",
   "version": "3.12.10"
  }
 },
 "nbformat": 4,
 "nbformat_minor": 5
}
